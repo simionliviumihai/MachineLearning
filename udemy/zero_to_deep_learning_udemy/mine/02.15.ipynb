{
 "cells": [
  {
   "cell_type": "code",
   "execution_count": 1,
   "metadata": {
    "collapsed": true
   },
   "outputs": [],
   "source": [
    "%matplotlib inline\n",
    "import matplotlib.pyplot as plt\n",
    "import numpy as np\n",
    "import pandas as pd"
   ]
  },
  {
   "cell_type": "code",
   "execution_count": 2,
   "metadata": {
    "collapsed": true
   },
   "outputs": [],
   "source": [
    "data = pd.read_csv(\"../data/international-airline-passengers.csv\")"
   ]
  },
  {
   "cell_type": "code",
   "execution_count": 3,
   "metadata": {},
   "outputs": [
    {
     "data": {
      "text/html": [
       "<div>\n",
       "<table border=\"1\" class=\"dataframe\">\n",
       "  <thead>\n",
       "    <tr style=\"text-align: right;\">\n",
       "      <th></th>\n",
       "      <th>Month</th>\n",
       "      <th>Thousand Passengers</th>\n",
       "    </tr>\n",
       "  </thead>\n",
       "  <tbody>\n",
       "    <tr>\n",
       "      <th>0</th>\n",
       "      <td>1949-01</td>\n",
       "      <td>112</td>\n",
       "    </tr>\n",
       "    <tr>\n",
       "      <th>1</th>\n",
       "      <td>1949-02</td>\n",
       "      <td>118</td>\n",
       "    </tr>\n",
       "    <tr>\n",
       "      <th>2</th>\n",
       "      <td>1949-03</td>\n",
       "      <td>132</td>\n",
       "    </tr>\n",
       "    <tr>\n",
       "      <th>3</th>\n",
       "      <td>1949-04</td>\n",
       "      <td>129</td>\n",
       "    </tr>\n",
       "    <tr>\n",
       "      <th>4</th>\n",
       "      <td>1949-05</td>\n",
       "      <td>121</td>\n",
       "    </tr>\n",
       "  </tbody>\n",
       "</table>\n",
       "</div>"
      ],
      "text/plain": [
       "     Month  Thousand Passengers\n",
       "0  1949-01                  112\n",
       "1  1949-02                  118\n",
       "2  1949-03                  132\n",
       "3  1949-04                  129\n",
       "4  1949-05                  121"
      ]
     },
     "execution_count": 3,
     "metadata": {},
     "output_type": "execute_result"
    }
   ],
   "source": [
    "data.head()"
   ]
  },
  {
   "cell_type": "code",
   "execution_count": 4,
   "metadata": {},
   "outputs": [
    {
     "data": {
      "text/plain": [
       "<bound method NDFrame.last of        Month  Thousand Passengers\n",
       "0    1949-01                  112\n",
       "1    1949-02                  118\n",
       "2    1949-03                  132\n",
       "3    1949-04                  129\n",
       "4    1949-05                  121\n",
       "5    1949-06                  135\n",
       "6    1949-07                  148\n",
       "7    1949-08                  148\n",
       "8    1949-09                  136\n",
       "9    1949-10                  119\n",
       "10   1949-11                  104\n",
       "11   1949-12                  118\n",
       "12   1950-01                  115\n",
       "13   1950-02                  126\n",
       "14   1950-03                  141\n",
       "15   1950-04                  135\n",
       "16   1950-05                  125\n",
       "17   1950-06                  149\n",
       "18   1950-07                  170\n",
       "19   1950-08                  170\n",
       "20   1950-09                  158\n",
       "21   1950-10                  133\n",
       "22   1950-11                  114\n",
       "23   1950-12                  140\n",
       "24   1951-01                  145\n",
       "25   1951-02                  150\n",
       "26   1951-03                  178\n",
       "27   1951-04                  163\n",
       "28   1951-05                  172\n",
       "29   1951-06                  178\n",
       "..       ...                  ...\n",
       "114  1958-07                  491\n",
       "115  1958-08                  505\n",
       "116  1958-09                  404\n",
       "117  1958-10                  359\n",
       "118  1958-11                  310\n",
       "119  1958-12                  337\n",
       "120  1959-01                  360\n",
       "121  1959-02                  342\n",
       "122  1959-03                  406\n",
       "123  1959-04                  396\n",
       "124  1959-05                  420\n",
       "125  1959-06                  472\n",
       "126  1959-07                  548\n",
       "127  1959-08                  559\n",
       "128  1959-09                  463\n",
       "129  1959-10                  407\n",
       "130  1959-11                  362\n",
       "131  1959-12                  405\n",
       "132  1960-01                  417\n",
       "133  1960-02                  391\n",
       "134  1960-03                  419\n",
       "135  1960-04                  461\n",
       "136  1960-05                  472\n",
       "137  1960-06                  535\n",
       "138  1960-07                  622\n",
       "139  1960-08                  606\n",
       "140  1960-09                  508\n",
       "141  1960-10                  461\n",
       "142  1960-11                  390\n",
       "143  1960-12                  432\n",
       "\n",
       "[144 rows x 2 columns]>"
      ]
     },
     "execution_count": 4,
     "metadata": {},
     "output_type": "execute_result"
    }
   ],
   "source": [
    "data.last"
   ]
  },
  {
   "cell_type": "code",
   "execution_count": 5,
   "metadata": {},
   "outputs": [
    {
     "data": {
      "text/html": [
       "<div>\n",
       "<table border=\"1\" class=\"dataframe\">\n",
       "  <thead>\n",
       "    <tr style=\"text-align: right;\">\n",
       "      <th></th>\n",
       "      <th>Thousand Passengers</th>\n",
       "    </tr>\n",
       "  </thead>\n",
       "  <tbody>\n",
       "    <tr>\n",
       "      <th>count</th>\n",
       "      <td>144.000000</td>\n",
       "    </tr>\n",
       "    <tr>\n",
       "      <th>mean</th>\n",
       "      <td>280.298611</td>\n",
       "    </tr>\n",
       "    <tr>\n",
       "      <th>std</th>\n",
       "      <td>119.966317</td>\n",
       "    </tr>\n",
       "    <tr>\n",
       "      <th>min</th>\n",
       "      <td>104.000000</td>\n",
       "    </tr>\n",
       "    <tr>\n",
       "      <th>25%</th>\n",
       "      <td>180.000000</td>\n",
       "    </tr>\n",
       "    <tr>\n",
       "      <th>50%</th>\n",
       "      <td>265.500000</td>\n",
       "    </tr>\n",
       "    <tr>\n",
       "      <th>75%</th>\n",
       "      <td>360.500000</td>\n",
       "    </tr>\n",
       "    <tr>\n",
       "      <th>max</th>\n",
       "      <td>622.000000</td>\n",
       "    </tr>\n",
       "  </tbody>\n",
       "</table>\n",
       "</div>"
      ],
      "text/plain": [
       "       Thousand Passengers\n",
       "count           144.000000\n",
       "mean            280.298611\n",
       "std             119.966317\n",
       "min             104.000000\n",
       "25%             180.000000\n",
       "50%             265.500000\n",
       "75%             360.500000\n",
       "max             622.000000"
      ]
     },
     "execution_count": 5,
     "metadata": {},
     "output_type": "execute_result"
    }
   ],
   "source": [
    "data.describe()"
   ]
  },
  {
   "cell_type": "code",
   "execution_count": 6,
   "metadata": {},
   "outputs": [
    {
     "name": "stdout",
     "output_type": "stream",
     "text": [
      "<class 'pandas.core.frame.DataFrame'>\n",
      "RangeIndex: 144 entries, 0 to 143\n",
      "Data columns (total 2 columns):\n",
      "Month                  144 non-null object\n",
      "Thousand Passengers    144 non-null int64\n",
      "dtypes: int64(1), object(1)\n",
      "memory usage: 2.3+ KB\n"
     ]
    }
   ],
   "source": [
    "data.info()"
   ]
  },
  {
   "cell_type": "code",
   "execution_count": 7,
   "metadata": {},
   "outputs": [
    {
     "data": {
      "text/plain": [
       "<matplotlib.axes._subplots.AxesSubplot at 0x22025e10a20>"
      ]
     },
     "execution_count": 7,
     "metadata": {},
     "output_type": "execute_result"
    },
    {
     "data": {
      "image/png": "[encoded data removed]",
      "text/plain": [
       "<matplotlib.figure.Figure at 0x22025de6588>"
      ]
     },
     "metadata": {},
     "output_type": "display_data"
    }
   ],
   "source": [
    "data.plot()"
   ]
  },
  {
   "cell_type": "code",
   "execution_count": 8,
   "metadata": {
    "collapsed": true
   },
   "outputs": [],
   "source": [
    "data[\"Date\"] = pd.to_datetime(data[\"Month\"])"
   ]
  },
  {
   "cell_type": "code",
   "execution_count": 9,
   "metadata": {},
   "outputs": [
    {
     "data": {
      "text/html": [
       "<div>\n",
       "<table border=\"1\" class=\"dataframe\">\n",
       "  <thead>\n",
       "    <tr style=\"text-align: right;\">\n",
       "      <th></th>\n",
       "      <th>Month</th>\n",
       "      <th>Thousand Passengers</th>\n",
       "      <th>Date</th>\n",
       "    </tr>\n",
       "  </thead>\n",
       "  <tbody>\n",
       "    <tr>\n",
       "      <th>0</th>\n",
       "      <td>1949-01</td>\n",
       "      <td>112</td>\n",
       "      <td>1949-01-01</td>\n",
       "    </tr>\n",
       "    <tr>\n",
       "      <th>1</th>\n",
       "      <td>1949-02</td>\n",
       "      <td>118</td>\n",
       "      <td>1949-02-01</td>\n",
       "    </tr>\n",
       "    <tr>\n",
       "      <th>2</th>\n",
       "      <td>1949-03</td>\n",
       "      <td>132</td>\n",
       "      <td>1949-03-01</td>\n",
       "    </tr>\n",
       "    <tr>\n",
       "      <th>3</th>\n",
       "      <td>1949-04</td>\n",
       "      <td>129</td>\n",
       "      <td>1949-04-01</td>\n",
       "    </tr>\n",
       "    <tr>\n",
       "      <th>4</th>\n",
       "      <td>1949-05</td>\n",
       "      <td>121</td>\n",
       "      <td>1949-05-01</td>\n",
       "    </tr>\n",
       "  </tbody>\n",
       "</table>\n",
       "</div>"
      ],
      "text/plain": [
       "     Month  Thousand Passengers       Date\n",
       "0  1949-01                  112 1949-01-01\n",
       "1  1949-02                  118 1949-02-01\n",
       "2  1949-03                  132 1949-03-01\n",
       "3  1949-04                  129 1949-04-01\n",
       "4  1949-05                  121 1949-05-01"
      ]
     },
     "execution_count": 9,
     "metadata": {},
     "output_type": "execute_result"
    }
   ],
   "source": [
    "data.head()"
   ]
  },
  {
   "cell_type": "code",
   "execution_count": 10,
   "metadata": {},
   "outputs": [
    {
     "data": {
      "text/html": [
       "<div>\n",
       "<table border=\"1\" class=\"dataframe\">\n",
       "  <thead>\n",
       "    <tr style=\"text-align: right;\">\n",
       "      <th></th>\n",
       "      <th>Month</th>\n",
       "      <th>Thousand Passengers</th>\n",
       "    </tr>\n",
       "    <tr>\n",
       "      <th>Date</th>\n",
       "      <th></th>\n",
       "      <th></th>\n",
       "    </tr>\n",
       "  </thead>\n",
       "  <tbody>\n",
       "    <tr>\n",
       "      <th>1949-01-01</th>\n",
       "      <td>1949-01</td>\n",
       "      <td>112</td>\n",
       "    </tr>\n",
       "    <tr>\n",
       "      <th>1949-02-01</th>\n",
       "      <td>1949-02</td>\n",
       "      <td>118</td>\n",
       "    </tr>\n",
       "    <tr>\n",
       "      <th>1949-03-01</th>\n",
       "      <td>1949-03</td>\n",
       "      <td>132</td>\n",
       "    </tr>\n",
       "    <tr>\n",
       "      <th>1949-04-01</th>\n",
       "      <td>1949-04</td>\n",
       "      <td>129</td>\n",
       "    </tr>\n",
       "    <tr>\n",
       "      <th>1949-05-01</th>\n",
       "      <td>1949-05</td>\n",
       "      <td>121</td>\n",
       "    </tr>\n",
       "    <tr>\n",
       "      <th>1949-06-01</th>\n",
       "      <td>1949-06</td>\n",
       "      <td>135</td>\n",
       "    </tr>\n",
       "    <tr>\n",
       "      <th>1949-07-01</th>\n",
       "      <td>1949-07</td>\n",
       "      <td>148</td>\n",
       "    </tr>\n",
       "    <tr>\n",
       "      <th>1949-08-01</th>\n",
       "      <td>1949-08</td>\n",
       "      <td>148</td>\n",
       "    </tr>\n",
       "    <tr>\n",
       "      <th>1949-09-01</th>\n",
       "      <td>1949-09</td>\n",
       "      <td>136</td>\n",
       "    </tr>\n",
       "    <tr>\n",
       "      <th>1949-10-01</th>\n",
       "      <td>1949-10</td>\n",
       "      <td>119</td>\n",
       "    </tr>\n",
       "    <tr>\n",
       "      <th>1949-11-01</th>\n",
       "      <td>1949-11</td>\n",
       "      <td>104</td>\n",
       "    </tr>\n",
       "    <tr>\n",
       "      <th>1949-12-01</th>\n",
       "      <td>1949-12</td>\n",
       "      <td>118</td>\n",
       "    </tr>\n",
       "    <tr>\n",
       "      <th>1950-01-01</th>\n",
       "      <td>1950-01</td>\n",
       "      <td>115</td>\n",
       "    </tr>\n",
       "    <tr>\n",
       "      <th>1950-02-01</th>\n",
       "      <td>1950-02</td>\n",
       "      <td>126</td>\n",
       "    </tr>\n",
       "    <tr>\n",
       "      <th>1950-03-01</th>\n",
       "      <td>1950-03</td>\n",
       "      <td>141</td>\n",
       "    </tr>\n",
       "    <tr>\n",
       "      <th>1950-04-01</th>\n",
       "      <td>1950-04</td>\n",
       "      <td>135</td>\n",
       "    </tr>\n",
       "    <tr>\n",
       "      <th>1950-05-01</th>\n",
       "      <td>1950-05</td>\n",
       "      <td>125</td>\n",
       "    </tr>\n",
       "    <tr>\n",
       "      <th>1950-06-01</th>\n",
       "      <td>1950-06</td>\n",
       "      <td>149</td>\n",
       "    </tr>\n",
       "    <tr>\n",
       "      <th>1950-07-01</th>\n",
       "      <td>1950-07</td>\n",
       "      <td>170</td>\n",
       "    </tr>\n",
       "    <tr>\n",
       "      <th>1950-08-01</th>\n",
       "      <td>1950-08</td>\n",
       "      <td>170</td>\n",
       "    </tr>\n",
       "    <tr>\n",
       "      <th>1950-09-01</th>\n",
       "      <td>1950-09</td>\n",
       "      <td>158</td>\n",
       "    </tr>\n",
       "    <tr>\n",
       "      <th>1950-10-01</th>\n",
       "      <td>1950-10</td>\n",
       "      <td>133</td>\n",
       "    </tr>\n",
       "    <tr>\n",
       "      <th>1950-11-01</th>\n",
       "      <td>1950-11</td>\n",
       "      <td>114</td>\n",
       "    </tr>\n",
       "    <tr>\n",
       "      <th>1950-12-01</th>\n",
       "      <td>1950-12</td>\n",
       "      <td>140</td>\n",
       "    </tr>\n",
       "    <tr>\n",
       "      <th>1951-01-01</th>\n",
       "      <td>1951-01</td>\n",
       "      <td>145</td>\n",
       "    </tr>\n",
       "    <tr>\n",
       "      <th>1951-02-01</th>\n",
       "      <td>1951-02</td>\n",
       "      <td>150</td>\n",
       "    </tr>\n",
       "    <tr>\n",
       "      <th>1951-03-01</th>\n",
       "      <td>1951-03</td>\n",
       "      <td>178</td>\n",
       "    </tr>\n",
       "    <tr>\n",
       "      <th>1951-04-01</th>\n",
       "      <td>1951-04</td>\n",
       "      <td>163</td>\n",
       "    </tr>\n",
       "    <tr>\n",
       "      <th>1951-05-01</th>\n",
       "      <td>1951-05</td>\n",
       "      <td>172</td>\n",
       "    </tr>\n",
       "    <tr>\n",
       "      <th>1951-06-01</th>\n",
       "      <td>1951-06</td>\n",
       "      <td>178</td>\n",
       "    </tr>\n",
       "    <tr>\n",
       "      <th>...</th>\n",
       "      <td>...</td>\n",
       "      <td>...</td>\n",
       "    </tr>\n",
       "    <tr>\n",
       "      <th>1958-07-01</th>\n",
       "      <td>1958-07</td>\n",
       "      <td>491</td>\n",
       "    </tr>\n",
       "    <tr>\n",
       "      <th>1958-08-01</th>\n",
       "      <td>1958-08</td>\n",
       "      <td>505</td>\n",
       "    </tr>\n",
       "    <tr>\n",
       "      <th>1958-09-01</th>\n",
       "      <td>1958-09</td>\n",
       "      <td>404</td>\n",
       "    </tr>\n",
       "    <tr>\n",
       "      <th>1958-10-01</th>\n",
       "      <td>1958-10</td>\n",
       "      <td>359</td>\n",
       "    </tr>\n",
       "    <tr>\n",
       "      <th>1958-11-01</th>\n",
       "      <td>1958-11</td>\n",
       "      <td>310</td>\n",
       "    </tr>\n",
       "    <tr>\n",
       "      <th>1958-12-01</th>\n",
       "      <td>1958-12</td>\n",
       "      <td>337</td>\n",
       "    </tr>\n",
       "    <tr>\n",
       "      <th>1959-01-01</th>\n",
       "      <td>1959-01</td>\n",
       "      <td>360</td>\n",
       "    </tr>\n",
       "    <tr>\n",
       "      <th>1959-02-01</th>\n",
       "      <td>1959-02</td>\n",
       "      <td>342</td>\n",
       "    </tr>\n",
       "    <tr>\n",
       "      <th>1959-03-01</th>\n",
       "      <td>1959-03</td>\n",
       "      <td>406</td>\n",
       "    </tr>\n",
       "    <tr>\n",
       "      <th>1959-04-01</th>\n",
       "      <td>1959-04</td>\n",
       "      <td>396</td>\n",
       "    </tr>\n",
       "    <tr>\n",
       "      <th>1959-05-01</th>\n",
       "      <td>1959-05</td>\n",
       "      <td>420</td>\n",
       "    </tr>\n",
       "    <tr>\n",
       "      <th>1959-06-01</th>\n",
       "      <td>1959-06</td>\n",
       "      <td>472</td>\n",
       "    </tr>\n",
       "    <tr>\n",
       "      <th>1959-07-01</th>\n",
       "      <td>1959-07</td>\n",
       "      <td>548</td>\n",
       "    </tr>\n",
       "    <tr>\n",
       "      <th>1959-08-01</th>\n",
       "      <td>1959-08</td>\n",
       "      <td>559</td>\n",
       "    </tr>\n",
       "    <tr>\n",
       "      <th>1959-09-01</th>\n",
       "      <td>1959-09</td>\n",
       "      <td>463</td>\n",
       "    </tr>\n",
       "    <tr>\n",
       "      <th>1959-10-01</th>\n",
       "      <td>1959-10</td>\n",
       "      <td>407</td>\n",
       "    </tr>\n",
       "    <tr>\n",
       "      <th>1959-11-01</th>\n",
       "      <td>1959-11</td>\n",
       "      <td>362</td>\n",
       "    </tr>\n",
       "    <tr>\n",
       "      <th>1959-12-01</th>\n",
       "      <td>1959-12</td>\n",
       "      <td>405</td>\n",
       "    </tr>\n",
       "    <tr>\n",
       "      <th>1960-01-01</th>\n",
       "      <td>1960-01</td>\n",
       "      <td>417</td>\n",
       "    </tr>\n",
       "    <tr>\n",
       "      <th>1960-02-01</th>\n",
       "      <td>1960-02</td>\n",
       "      <td>391</td>\n",
       "    </tr>\n",
       "    <tr>\n",
       "      <th>1960-03-01</th>\n",
       "      <td>1960-03</td>\n",
       "      <td>419</td>\n",
       "    </tr>\n",
       "    <tr>\n",
       "      <th>1960-04-01</th>\n",
       "      <td>1960-04</td>\n",
       "      <td>461</td>\n",
       "    </tr>\n",
       "    <tr>\n",
       "      <th>1960-05-01</th>\n",
       "      <td>1960-05</td>\n",
       "      <td>472</td>\n",
       "    </tr>\n",
       "    <tr>\n",
       "      <th>1960-06-01</th>\n",
       "      <td>1960-06</td>\n",
       "      <td>535</td>\n",
       "    </tr>\n",
       "    <tr>\n",
       "      <th>1960-07-01</th>\n",
       "      <td>1960-07</td>\n",
       "      <td>622</td>\n",
       "    </tr>\n",
       "    <tr>\n",
       "      <th>1960-08-01</th>\n",
       "      <td>1960-08</td>\n",
       "      <td>606</td>\n",
       "    </tr>\n",
       "    <tr>\n",
       "      <th>1960-09-01</th>\n",
       "      <td>1960-09</td>\n",
       "      <td>508</td>\n",
       "    </tr>\n",
       "    <tr>\n",
       "      <th>1960-10-01</th>\n",
       "      <td>1960-10</td>\n",
       "      <td>461</td>\n",
       "    </tr>\n",
       "    <tr>\n",
       "      <th>1960-11-01</th>\n",
       "      <td>1960-11</td>\n",
       "      <td>390</td>\n",
       "    </tr>\n",
       "    <tr>\n",
       "      <th>1960-12-01</th>\n",
       "      <td>1960-12</td>\n",
       "      <td>432</td>\n",
       "    </tr>\n",
       "  </tbody>\n",
       "</table>\n",
       "<p>144 rows × 2 columns</p>\n",
       "</div>"
      ],
      "text/plain": [
       "              Month  Thousand Passengers\n",
       "Date                                    \n",
       "1949-01-01  1949-01                  112\n",
       "1949-02-01  1949-02                  118\n",
       "1949-03-01  1949-03                  132\n",
       "1949-04-01  1949-04                  129\n",
       "1949-05-01  1949-05                  121\n",
       "1949-06-01  1949-06                  135\n",
       "1949-07-01  1949-07                  148\n",
       "1949-08-01  1949-08                  148\n",
       "1949-09-01  1949-09                  136\n",
       "1949-10-01  1949-10                  119\n",
       "1949-11-01  1949-11                  104\n",
       "1949-12-01  1949-12                  118\n",
       "1950-01-01  1950-01                  115\n",
       "1950-02-01  1950-02                  126\n",
       "1950-03-01  1950-03                  141\n",
       "1950-04-01  1950-04                  135\n",
       "1950-05-01  1950-05                  125\n",
       "1950-06-01  1950-06                  149\n",
       "1950-07-01  1950-07                  170\n",
       "1950-08-01  1950-08                  170\n",
       "1950-09-01  1950-09                  158\n",
       "1950-10-01  1950-10                  133\n",
       "1950-11-01  1950-11                  114\n",
       "1950-12-01  1950-12                  140\n",
       "1951-01-01  1951-01                  145\n",
       "1951-02-01  1951-02                  150\n",
       "1951-03-01  1951-03                  178\n",
       "1951-04-01  1951-04                  163\n",
       "1951-05-01  1951-05                  172\n",
       "1951-06-01  1951-06                  178\n",
       "...             ...                  ...\n",
       "1958-07-01  1958-07                  491\n",
       "1958-08-01  1958-08                  505\n",
       "1958-09-01  1958-09                  404\n",
       "1958-10-01  1958-10                  359\n",
       "1958-11-01  1958-11                  310\n",
       "1958-12-01  1958-12                  337\n",
       "1959-01-01  1959-01                  360\n",
       "1959-02-01  1959-02                  342\n",
       "1959-03-01  1959-03                  406\n",
       "1959-04-01  1959-04                  396\n",
       "1959-05-01  1959-05                  420\n",
       "1959-06-01  1959-06                  472\n",
       "1959-07-01  1959-07                  548\n",
       "1959-08-01  1959-08                  559\n",
       "1959-09-01  1959-09                  463\n",
       "1959-10-01  1959-10                  407\n",
       "1959-11-01  1959-11                  362\n",
       "1959-12-01  1959-12                  405\n",
       "1960-01-01  1960-01                  417\n",
       "1960-02-01  1960-02                  391\n",
       "1960-03-01  1960-03                  419\n",
       "1960-04-01  1960-04                  461\n",
       "1960-05-01  1960-05                  472\n",
       "1960-06-01  1960-06                  535\n",
       "1960-07-01  1960-07                  622\n",
       "1960-08-01  1960-08                  606\n",
       "1960-09-01  1960-09                  508\n",
       "1960-10-01  1960-10                  461\n",
       "1960-11-01  1960-11                  390\n",
       "1960-12-01  1960-12                  432\n",
       "\n",
       "[144 rows x 2 columns]"
      ]
     },
     "execution_count": 10,
     "metadata": {},
     "output_type": "execute_result"
    }
   ],
   "source": [
    "data.set_index(\"Date\")"
   ]
  },
  {
   "cell_type": "code",
   "execution_count": 11,
   "metadata": {},
   "outputs": [
    {
     "data": {
      "text/plain": [
       "<matplotlib.axes._subplots.AxesSubplot at 0x22026050748>"
      ]
     },
     "execution_count": 11,
     "metadata": {},
     "output_type": "execute_result"
    },
    {
     "data": {
      "image/png": "[encoded data removed]",
      "text/plain": [
       "<matplotlib.figure.Figure at 0x220260076d8>"
      ]
     },
     "metadata": {},
     "output_type": "display_data"
    }
   ],
   "source": [
    "data.plot(x=\"Date\", y=\"Thousand Passengers\")"
   ]
  },
  {
   "cell_type": "code",
   "execution_count": 12,
   "metadata": {
    "collapsed": true
   },
   "outputs": [],
   "source": [
    "tup = (data[\"Date\"].values, data[\"Thousand Passengers\"].values)"
   ]
  },
  {
   "cell_type": "code",
   "execution_count": 13,
   "metadata": {},
   "outputs": [
    {
     "data": {
      "text/plain": [
       "(array(['1949-01-01T00:00:00.000000000', '1949-02-01T00:00:00.000000000',\n",
       "        '1949-03-01T00:00:00.000000000', '1949-04-01T00:00:00.000000000',\n",
       "        '1949-05-01T00:00:00.000000000', '1949-06-01T00:00:00.000000000',\n",
       "        '1949-07-01T00:00:00.000000000', '1949-08-01T00:00:00.000000000',\n",
       "        '1949-09-01T00:00:00.000000000', '1949-10-01T00:00:00.000000000',\n",
       "        '1949-11-01T00:00:00.000000000', '1949-12-01T00:00:00.000000000',\n",
       "        '1950-01-01T00:00:00.000000000', '1950-02-01T00:00:00.000000000',\n",
       "        '1950-03-01T00:00:00.000000000', '1950-04-01T00:00:00.000000000',\n",
       "        '1950-05-01T00:00:00.000000000', '1950-06-01T00:00:00.000000000',\n",
       "        '1950-07-01T00:00:00.000000000', '1950-08-01T00:00:00.000000000',\n",
       "        '1950-09-01T00:00:00.000000000', '1950-10-01T00:00:00.000000000',\n",
       "        '1950-11-01T00:00:00.000000000', '1950-12-01T00:00:00.000000000',\n",
       "        '1951-01-01T00:00:00.000000000', '1951-02-01T00:00:00.000000000',\n",
       "        '1951-03-01T00:00:00.000000000', '1951-04-01T00:00:00.000000000',\n",
       "        '1951-05-01T00:00:00.000000000', '1951-06-01T00:00:00.000000000',\n",
       "        '1951-07-01T00:00:00.000000000', '1951-08-01T00:00:00.000000000',\n",
       "        '1951-09-01T00:00:00.000000000', '1951-10-01T00:00:00.000000000',\n",
       "        '1951-11-01T00:00:00.000000000', '1951-12-01T00:00:00.000000000',\n",
       "        '1952-01-01T00:00:00.000000000', '1952-02-01T00:00:00.000000000',\n",
       "        '1952-03-01T00:00:00.000000000', '1952-04-01T00:00:00.000000000',\n",
       "        '1952-05-01T00:00:00.000000000', '1952-06-01T00:00:00.000000000',\n",
       "        '1952-07-01T00:00:00.000000000', '1952-08-01T00:00:00.000000000',\n",
       "        '1952-09-01T00:00:00.000000000', '1952-10-01T00:00:00.000000000',\n",
       "        '1952-11-01T00:00:00.000000000', '1952-12-01T00:00:00.000000000',\n",
       "        '1953-01-01T00:00:00.000000000', '1953-02-01T00:00:00.000000000',\n",
       "        '1953-03-01T00:00:00.000000000', '1953-04-01T00:00:00.000000000',\n",
       "        '1953-05-01T00:00:00.000000000', '1953-06-01T00:00:00.000000000',\n",
       "        '1953-07-01T00:00:00.000000000', '1953-08-01T00:00:00.000000000',\n",
       "        '1953-09-01T00:00:00.000000000', '1953-10-01T00:00:00.000000000',\n",
       "        '1953-11-01T00:00:00.000000000', '1953-12-01T00:00:00.000000000',\n",
       "        '1954-01-01T00:00:00.000000000', '1954-02-01T00:00:00.000000000',\n",
       "        '1954-03-01T00:00:00.000000000', '1954-04-01T00:00:00.000000000',\n",
       "        '1954-05-01T00:00:00.000000000', '1954-06-01T00:00:00.000000000',\n",
       "        '1954-07-01T00:00:00.000000000', '1954-08-01T00:00:00.000000000',\n",
       "        '1954-09-01T00:00:00.000000000', '1954-10-01T00:00:00.000000000',\n",
       "        '1954-11-01T00:00:00.000000000', '1954-12-01T00:00:00.000000000',\n",
       "        '1955-01-01T00:00:00.000000000', '1955-02-01T00:00:00.000000000',\n",
       "        '1955-03-01T00:00:00.000000000', '1955-04-01T00:00:00.000000000',\n",
       "        '1955-05-01T00:00:00.000000000', '1955-06-01T00:00:00.000000000',\n",
       "        '1955-07-01T00:00:00.000000000', '1955-08-01T00:00:00.000000000',\n",
       "        '1955-09-01T00:00:00.000000000', '1955-10-01T00:00:00.000000000',\n",
       "        '1955-11-01T00:00:00.000000000', '1955-12-01T00:00:00.000000000',\n",
       "        '1956-01-01T00:00:00.000000000', '1956-02-01T00:00:00.000000000',\n",
       "        '1956-03-01T00:00:00.000000000', '1956-04-01T00:00:00.000000000',\n",
       "        '1956-05-01T00:00:00.000000000', '1956-06-01T00:00:00.000000000',\n",
       "        '1956-07-01T00:00:00.000000000', '1956-08-01T00:00:00.000000000',\n",
       "        '1956-09-01T00:00:00.000000000', '1956-10-01T00:00:00.000000000',\n",
       "        '1956-11-01T00:00:00.000000000', '1956-12-01T00:00:00.000000000',\n",
       "        '1957-01-01T00:00:00.000000000', '1957-02-01T00:00:00.000000000',\n",
       "        '1957-03-01T00:00:00.000000000', '1957-04-01T00:00:00.000000000',\n",
       "        '1957-05-01T00:00:00.000000000', '1957-06-01T00:00:00.000000000',\n",
       "        '1957-07-01T00:00:00.000000000', '1957-08-01T00:00:00.000000000',\n",
       "        '1957-09-01T00:00:00.000000000', '1957-10-01T00:00:00.000000000',\n",
       "        '1957-11-01T00:00:00.000000000', '1957-12-01T00:00:00.000000000',\n",
       "        '1958-01-01T00:00:00.000000000', '1958-02-01T00:00:00.000000000',\n",
       "        '1958-03-01T00:00:00.000000000', '1958-04-01T00:00:00.000000000',\n",
       "        '1958-05-01T00:00:00.000000000', '1958-06-01T00:00:00.000000000',\n",
       "        '1958-07-01T00:00:00.000000000', '1958-08-01T00:00:00.000000000',\n",
       "        '1958-09-01T00:00:00.000000000', '1958-10-01T00:00:00.000000000',\n",
       "        '1958-11-01T00:00:00.000000000', '1958-12-01T00:00:00.000000000',\n",
       "        '1959-01-01T00:00:00.000000000', '1959-02-01T00:00:00.000000000',\n",
       "        '1959-03-01T00:00:00.000000000', '1959-04-01T00:00:00.000000000',\n",
       "        '1959-05-01T00:00:00.000000000', '1959-06-01T00:00:00.000000000',\n",
       "        '1959-07-01T00:00:00.000000000', '1959-08-01T00:00:00.000000000',\n",
       "        '1959-09-01T00:00:00.000000000', '1959-10-01T00:00:00.000000000',\n",
       "        '1959-11-01T00:00:00.000000000', '1959-12-01T00:00:00.000000000',\n",
       "        '1960-01-01T00:00:00.000000000', '1960-02-01T00:00:00.000000000',\n",
       "        '1960-03-01T00:00:00.000000000', '1960-04-01T00:00:00.000000000',\n",
       "        '1960-05-01T00:00:00.000000000', '1960-06-01T00:00:00.000000000',\n",
       "        '1960-07-01T00:00:00.000000000', '1960-08-01T00:00:00.000000000',\n",
       "        '1960-09-01T00:00:00.000000000', '1960-10-01T00:00:00.000000000',\n",
       "        '1960-11-01T00:00:00.000000000', '1960-12-01T00:00:00.000000000'], dtype='datetime64[ns]'),\n",
       " array([112, 118, 132, 129, 121, 135, 148, 148, 136, 119, 104, 118, 115,\n",
       "        126, 141, 135, 125, 149, 170, 170, 158, 133, 114, 140, 145, 150,\n",
       "        178, 163, 172, 178, 199, 199, 184, 162, 146, 166, 171, 180, 193,\n",
       "        181, 183, 218, 230, 242, 209, 191, 172, 194, 196, 196, 236, 235,\n",
       "        229, 243, 264, 272, 237, 211, 180, 201, 204, 188, 235, 227, 234,\n",
       "        264, 302, 293, 259, 229, 203, 229, 242, 233, 267, 269, 270, 315,\n",
       "        364, 347, 312, 274, 237, 278, 284, 277, 317, 313, 318, 374, 413,\n",
       "        405, 355, 306, 271, 306, 315, 301, 356, 348, 355, 422, 465, 467,\n",
       "        404, 347, 305, 336, 340, 318, 362, 348, 363, 435, 491, 505, 404,\n",
       "        359, 310, 337, 360, 342, 406, 396, 420, 472, 548, 559, 463, 407,\n",
       "        362, 405, 417, 391, 419, 461, 472, 535, 622, 606, 508, 461, 390, 432], dtype=int64))"
      ]
     },
     "execution_count": 13,
     "metadata": {},
     "output_type": "execute_result"
    }
   ],
   "source": [
    "tup"
   ]
  },
  {
   "cell_type": "code",
   "execution_count": null,
   "metadata": {},
   "outputs": [],
   "source": []
  },
  {
   "cell_type": "code",
   "execution_count": 14,
   "metadata": {},
   "outputs": [
    {
     "data": {
      "text/plain": [
       "array([112, 118, 132, 129, 121, 135, 148, 148, 136, 119, 104, 118, 115,\n",
       "       126, 141, 135, 125, 149, 170, 170, 158, 133, 114, 140, 145, 150,\n",
       "       178, 163, 172, 178, 199, 199, 184, 162, 146, 166, 171, 180, 193,\n",
       "       181, 183, 218, 230, 242, 209, 191, 172, 194, 196, 196, 236, 235,\n",
       "       229, 243, 264, 272, 237, 211, 180, 201, 204, 188, 235, 227, 234,\n",
       "       264, 302, 293, 259, 229, 203, 229, 242, 233, 267, 269, 270, 315,\n",
       "       364, 347, 312, 274, 237, 278, 284, 277, 317, 313, 318, 374, 413,\n",
       "       405, 355, 306, 271, 306, 315, 301, 356, 348, 355, 422, 465, 467,\n",
       "       404, 347, 305, 336, 340, 318, 362, 348, 363, 435, 491, 505, 404,\n",
       "       359, 310, 337, 360, 342, 406, 396, 420, 472, 548, 559, 463, 407,\n",
       "       362, 405, 417, 391, 419, 461, 472, 535, 622, 606, 508, 461, 390, 432], dtype=int64)"
      ]
     },
     "execution_count": 14,
     "metadata": {},
     "output_type": "execute_result"
    }
   ],
   "source": [
    "tup[1]"
   ]
  },
  {
   "cell_type": "code",
   "execution_count": 15,
   "metadata": {},
   "outputs": [
    {
     "data": {
      "text/plain": [
       "[<matplotlib.lines.Line2D at 0x2202734b7f0>]"
      ]
     },
     "execution_count": 15,
     "metadata": {},
     "output_type": "execute_result"
    },
    {
     "data": {
      "image/png": "[encoded data removed]",
      "text/plain": [
       "<matplotlib.figure.Figure at 0x22025e50b00>"
      ]
     },
     "metadata": {},
     "output_type": "display_data"
    }
   ],
   "source": [
    "plt.plot(tup[1])"
   ]
  },
  {
   "cell_type": "code",
   "execution_count": 19,
   "metadata": {},
   "outputs": [
    {
     "data": {
      "text/plain": [
       "[]"
      ]
     },
     "execution_count": 19,
     "metadata": {},
     "output_type": "execute_result"
    },
    {
     "data": {
      "image/png": "[encoded data removed]",
      "text/plain": [
       "<matplotlib.figure.Figure at 0x220273ee438>"
      ]
     },
     "metadata": {},
     "output_type": "display_data"
    }
   ],
   "source": [
    "plt.xlim((0, 10))\n",
    "plt.ylim((0, 10))\n",
    "plt.plot(x = [1, 2,3, 4,5,6,7,8], y = [2,6,3,6,8,4,23,5])\n",
    "#plt.plot(y = data[\"Date\"].values, x = data[\"Thousand Passengers\"].values)"
   ]
  },
  {
   "cell_type": "code",
   "execution_count": 25,
   "metadata": {},
   "outputs": [
    {
     "data": {
      "text/plain": [
       "[<matplotlib.lines.Line2D at 0x22027807c50>]"
      ]
     },
     "execution_count": 25,
     "metadata": {},
     "output_type": "execute_result"
    },
    {
     "data": {
      "image/png": "[encoded data removed]",
      "text/plain": [
       "<matplotlib.figure.Figure at 0x220277e2320>"
      ]
     },
     "metadata": {},
     "output_type": "display_data"
    }
   ],
   "source": [
    "plt.plot(tup[0], tup[1], \"--\")"
   ]
  },
  {
   "cell_type": "code",
   "execution_count": null,
   "metadata": {
    "collapsed": true
   },
   "outputs": [],
   "source": []
  }
 ],
 "metadata": {
  "kernelspec": {
   "display_name": "Python 3",
   "language": "python",
   "name": "python3"
  },
  "language_info": {
   "codemirror_mode": {
    "name": "ipython",
    "version": 3
   },
   "file_extension": ".py",
   "mimetype": "text/x-python",
   "name": "python",
   "nbconvert_exporter": "python",
   "pygments_lexer": "ipython3",
   "version": "3.5.3"
  }
 },
 "nbformat": 4,
 "nbformat_minor": 2
}
