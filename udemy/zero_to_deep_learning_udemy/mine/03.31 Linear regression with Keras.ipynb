{
 "cells": [
  {
   "cell_type": "code",
   "execution_count": 21,
   "metadata": {
    "collapsed": true
   },
   "outputs": [],
   "source": [
    "def mean_squared_error(yreal, y):\n",
    "    s = (y - yreal) ** 2\n",
    "    return s.mean()"
   ]
  },
  {
   "cell_type": "code",
   "execution_count": 31,
   "metadata": {
    "collapsed": true
   },
   "outputs": [],
   "source": [
    "%matplotlib inline\n",
    "import pandas as pd\n",
    "import matplotlib.pyplot as plt"
   ]
  },
  {
   "cell_type": "code",
   "execution_count": 14,
   "metadata": {
    "collapsed": true
   },
   "outputs": [],
   "source": [
    "data = pd.read_csv(\"../data/weight-height.csv\")"
   ]
  },
  {
   "cell_type": "code",
   "execution_count": 15,
   "metadata": {
    "collapsed": true
   },
   "outputs": [],
   "source": [
    "X = data['Height'].values\n",
    "y = data['Weight'].values"
   ]
  },
  {
   "cell_type": "code",
   "execution_count": 9,
   "metadata": {
    "collapsed": true
   },
   "outputs": [],
   "source": [
    "from keras.models import Sequential\n",
    "from keras.layers import Dense\n",
    "from keras.optimizers import Adam, SGD"
   ]
  },
  {
   "cell_type": "code",
   "execution_count": 10,
   "metadata": {},
   "outputs": [],
   "source": [
    "model = Sequential()\n",
    "model.add(Dense(1, input_shape=(1,)))"
   ]
  },
  {
   "cell_type": "code",
   "execution_count": 11,
   "metadata": {},
   "outputs": [
    {
     "name": "stdout",
     "output_type": "stream",
     "text": [
      "_________________________________________________________________\n",
      "Layer (type)                 Output Shape              Param #   \n",
      "=================================================================\n",
      "dense_2 (Dense)              (None, 1)                 2         \n",
      "=================================================================\n",
      "Total params: 2\n",
      "Trainable params: 2\n",
      "Non-trainable params: 0\n",
      "_________________________________________________________________\n"
     ]
    }
   ],
   "source": [
    "model.summary()"
   ]
  },
  {
   "cell_type": "code",
   "execution_count": 12,
   "metadata": {
    "collapsed": true
   },
   "outputs": [],
   "source": [
    "model.compile(Adam(lr=0.8), \"mean_squared_error\")"
   ]
  },
  {
   "cell_type": "code",
   "execution_count": 22,
   "metadata": {},
   "outputs": [
    {
     "name": "stdout",
     "output_type": "stream",
     "text": [
      "Epoch 1/40\n",
      "10000/10000 [==============================] - 0s - loss: 173.2055     \n",
      "Epoch 2/40\n",
      "10000/10000 [==============================] - 0s - loss: 187.7679     \n",
      "Epoch 3/40\n",
      "10000/10000 [==============================] - 0s - loss: 168.9314     \n",
      "Epoch 4/40\n",
      "10000/10000 [==============================] - 0s - loss: 193.6000     \n",
      "Epoch 5/40\n",
      "10000/10000 [==============================] - 0s - loss: 172.9543     \n",
      "Epoch 6/40\n",
      "10000/10000 [==============================] - 0s - loss: 170.5474     \n",
      "Epoch 7/40\n",
      "10000/10000 [==============================] - 0s - loss: 175.7578     \n",
      "Epoch 8/40\n",
      "10000/10000 [==============================] - 0s - loss: 174.6955     \n",
      "Epoch 9/40\n",
      "10000/10000 [==============================] - 0s - loss: 166.0145     \n",
      "Epoch 10/40\n",
      "10000/10000 [==============================] - 0s - loss: 180.4944     \n",
      "Epoch 11/40\n",
      "10000/10000 [==============================] - 0s - loss: 179.3770     \n",
      "Epoch 12/40\n",
      "10000/10000 [==============================] - 0s - loss: 182.0980     \n",
      "Epoch 13/40\n",
      "10000/10000 [==============================] - 0s - loss: 184.1485     \n",
      "Epoch 14/40\n",
      "10000/10000 [==============================] - 0s - loss: 188.5418     \n",
      "Epoch 15/40\n",
      "10000/10000 [==============================] - 0s - loss: 175.4224     \n",
      "Epoch 16/40\n",
      "10000/10000 [==============================] - 0s - loss: 182.8437     \n",
      "Epoch 17/40\n",
      "10000/10000 [==============================] - 0s - loss: 172.9739     \n",
      "Epoch 18/40\n",
      "10000/10000 [==============================] - 0s - loss: 168.7489     \n",
      "Epoch 19/40\n",
      "10000/10000 [==============================] - 0s - loss: 172.2397     \n",
      "Epoch 20/40\n",
      "10000/10000 [==============================] - 0s - loss: 186.4277     \n",
      "Epoch 21/40\n",
      "10000/10000 [==============================] - 0s - loss: 168.9674     \n",
      "Epoch 22/40\n",
      "10000/10000 [==============================] - 0s - loss: 189.3512     \n",
      "Epoch 23/40\n",
      "10000/10000 [==============================] - 0s - loss: 179.1606     \n",
      "Epoch 24/40\n",
      "10000/10000 [==============================] - 0s - loss: 166.5193     \n",
      "Epoch 25/40\n",
      "10000/10000 [==============================] - 0s - loss: 171.5193     \n",
      "Epoch 26/40\n",
      "10000/10000 [==============================] - 0s - loss: 180.3605     \n",
      "Epoch 27/40\n",
      "10000/10000 [==============================] - 0s - loss: 184.7183     \n",
      "Epoch 28/40\n",
      "10000/10000 [==============================] - 0s - loss: 174.8716     \n",
      "Epoch 29/40\n",
      "10000/10000 [==============================] - 0s - loss: 172.2863     \n",
      "Epoch 30/40\n",
      "10000/10000 [==============================] - 0s - loss: 174.0956     \n",
      "Epoch 31/40\n",
      "10000/10000 [==============================] - 0s - loss: 180.2263     \n",
      "Epoch 32/40\n",
      "10000/10000 [==============================] - 0s - loss: 176.4917     \n",
      "Epoch 33/40\n",
      "10000/10000 [==============================] - 0s - loss: 175.8564     \n",
      "Epoch 34/40\n",
      "10000/10000 [==============================] - 0s - loss: 183.4014     \n",
      "Epoch 35/40\n",
      "10000/10000 [==============================] - 0s - loss: 179.8786     \n",
      "Epoch 36/40\n",
      "10000/10000 [==============================] - 0s - loss: 175.5682     \n",
      "Epoch 37/40\n",
      "10000/10000 [==============================] - 0s - loss: 170.0083     \n",
      "Epoch 38/40\n",
      "10000/10000 [==============================] - 0s - loss: 181.2691     \n",
      "Epoch 39/40\n",
      "10000/10000 [==============================] - 0s - loss: 180.7352     \n",
      "Epoch 40/40\n",
      "10000/10000 [==============================] - 0s - loss: 173.2842     \n"
     ]
    },
    {
     "data": {
      "text/plain": [
       "<keras.callbacks.History at 0x288b2256358>"
      ]
     },
     "execution_count": 22,
     "metadata": {},
     "output_type": "execute_result"
    }
   ],
   "source": [
    "model.fit(X, y, epochs=40)"
   ]
  },
  {
   "cell_type": "code",
   "execution_count": 23,
   "metadata": {
    "collapsed": true
   },
   "outputs": [],
   "source": [
    "y_pred = model.predict(X)"
   ]
  },
  {
   "cell_type": "code",
   "execution_count": 24,
   "metadata": {},
   "outputs": [
    {
     "data": {
      "text/plain": [
       "array([[ 221.17462158],\n",
       "       [ 181.93395996],\n",
       "       [ 223.21289062],\n",
       "       ..., \n",
       "       [ 143.86465454],\n",
       "       [ 183.88885498],\n",
       "       [ 128.96090698]], dtype=float32)"
      ]
     },
     "execution_count": 24,
     "metadata": {},
     "output_type": "execute_result"
    }
   ],
   "source": [
    "y_pred"
   ]
  },
  {
   "cell_type": "code",
   "execution_count": 25,
   "metadata": {},
   "outputs": [
    {
     "data": {
      "text/plain": [
       "array([ 241.89356318,  162.31047252,  212.74085556, ...,  128.47531878,\n",
       "        163.85246135,  113.64910268])"
      ]
     },
     "execution_count": 25,
     "metadata": {},
     "output_type": "execute_result"
    }
   ],
   "source": [
    "y"
   ]
  },
  {
   "cell_type": "code",
   "execution_count": 32,
   "metadata": {},
   "outputs": [
    {
     "data": {
      "text/plain": [
       "[<matplotlib.lines.Line2D at 0x288b2c9ceb8>]"
      ]
     },
     "execution_count": 32,
     "metadata": {},
     "output_type": "execute_result"
    },
    {
     "data": {
      "image/png": "[encoded data removed]",
      "text/plain": [
       "<matplotlib.figure.Figure at 0x288b2c9cb00>"
      ]
     },
     "metadata": {},
     "output_type": "display_data"
    }
   ],
   "source": [
    "data.plot(kind = \"scatter\", x = \"Height\", y = \"Weight\")\n",
    "plt.plot(X, y_pred, color = \"red\")"
   ]
  },
  {
   "cell_type": "code",
   "execution_count": 33,
   "metadata": {
    "collapsed": true
   },
   "outputs": [],
   "source": [
    "W, B = model.get_weights();"
   ]
  },
  {
   "cell_type": "code",
   "execution_count": 34,
   "metadata": {},
   "outputs": [
    {
     "data": {
      "text/plain": [
       "array([[ 7.74724722]], dtype=float32)"
      ]
     },
     "execution_count": 34,
     "metadata": {},
     "output_type": "execute_result"
    }
   ],
   "source": [
    "W"
   ]
  },
  {
   "cell_type": "code",
   "execution_count": 35,
   "metadata": {},
   "outputs": [
    {
     "data": {
      "text/plain": [
       "array([-350.9364624], dtype=float32)"
      ]
     },
     "execution_count": 35,
     "metadata": {},
     "output_type": "execute_result"
    }
   ],
   "source": [
    "B"
   ]
  },
  {
   "cell_type": "code",
   "execution_count": 37,
   "metadata": {},
   "outputs": [
    {
     "data": {
      "text/plain": [
       "[]"
      ]
     },
     "execution_count": 37,
     "metadata": {},
     "output_type": "execute_result"
    }
   ],
   "source": [
    "model.get_losses_for((X, y))"
   ]
  },
  {
   "cell_type": "code",
   "execution_count": null,
   "metadata": {
    "collapsed": true
   },
   "outputs": [],
   "source": []
  }
 ],
 "metadata": {
  "kernelspec": {
   "display_name": "Python 3",
   "language": "python",
   "name": "python3"
  },
  "language_info": {
   "codemirror_mode": {
    "name": "ipython",
    "version": 3
   },
   "file_extension": ".py",
   "mimetype": "text/x-python",
   "name": "python",
   "nbconvert_exporter": "python",
   "pygments_lexer": "ipython3",
   "version": "3.5.3"
  }
 },
 "nbformat": 4,
 "nbformat_minor": 2
}
