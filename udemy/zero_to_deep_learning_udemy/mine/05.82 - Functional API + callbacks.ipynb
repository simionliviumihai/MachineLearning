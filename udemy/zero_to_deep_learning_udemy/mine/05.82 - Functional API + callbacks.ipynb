{
 "cells": [
  {
   "cell_type": "code",
   "execution_count": 40,
   "metadata": {},
   "outputs": [],
   "source": [
    "%matplotlib inline\n",
    "import matplotlib.pyplot as plt\n",
    "import numpy as np\n",
    "import pandas as pd\n",
    "\n",
    "from keras.models import Sequential, Model\n",
    "from keras.layers import Dense, Input\n",
    "from keras.optimizers import Adam, RMSprop\n",
    "from keras.utils.np_utils import to_categorical\n",
    "import keras.backend as K\n",
    "from keras.callbacks import ModelCheckpoint, EarlyStopping, TensorBoard\n",
    "\n",
    "from sklearn.preprocessing import scale\n",
    "from sklearn.model_selection import train_test_split\n",
    "from sklearn.metrics import confusion_matrix\n",
    "from sklearn.preprocessing import add_dummy_feature\n",
    "from sklearn.metrics import f1_score\n",
    "\n",
    "import seaborn as sns"
   ]
  },
  {
   "cell_type": "code",
   "execution_count": 10,
   "metadata": {
    "collapsed": true
   },
   "outputs": [],
   "source": [
    "df = pd.read_csv('../data/wines.csv')\n",
    "X = scale(df.drop('Class', axis = 1).values)\n",
    "y = to_categorical(df['Class'].values - 1)\n",
    "X_train, X_test, y_train, y_test = train_test_split(X, y, test_size = 0.2)"
   ]
  },
  {
   "cell_type": "code",
   "execution_count": 55,
   "metadata": {
    "collapsed": true
   },
   "outputs": [],
   "source": [
    "checkpoint = ModelCheckpoint(filepath=\"checkpoint.txt\")\n",
    "early = EarlyStopping(min_delta=0.0001, monitor=\"val_loss\")\n",
    "tb = TensorBoard(log_dir='./tb/', write_images=True, write_graph=True, write_grads=True)"
   ]
  },
  {
   "cell_type": "code",
   "execution_count": 56,
   "metadata": {},
   "outputs": [
    {
     "name": "stdout",
     "output_type": "stream",
     "text": [
      "Train on 142 samples, validate on 36 samples\n",
      "Epoch 1/40\n",
      "142/142 [==============================] - 0s - loss: 0.9517 - acc: 0.5282 - val_loss: 0.4178 - val_acc: 0.8889\n",
      "Epoch 2/40\n",
      "142/142 [==============================] - 0s - loss: 0.4600 - acc: 0.9014 - val_loss: 0.2121 - val_acc: 0.9722\n",
      "Epoch 3/40\n",
      "142/142 [==============================] - 0s - loss: 0.1704 - acc: 0.9859 - val_loss: 0.0987 - val_acc: 0.9722\n",
      "Epoch 4/40\n",
      "142/142 [==============================] - 0s - loss: 0.1380 - acc: 0.9648 - val_loss: 0.1039 - val_acc: 0.9722\n",
      "Epoch 5/40\n",
      "142/142 [==============================] - 0s - loss: 0.1090 - acc: 0.9718 - val_loss: 0.0413 - val_acc: 1.0000\n",
      "Epoch 6/40\n",
      "142/142 [==============================] - 0s - loss: 0.0777 - acc: 0.9789 - val_loss: 0.0202 - val_acc: 1.0000\n",
      "Epoch 7/40\n",
      "142/142 [==============================] - 0s - loss: 0.0673 - acc: 0.9859 - val_loss: 0.0159 - val_acc: 1.0000\n",
      "Epoch 8/40\n",
      "142/142 [==============================] - 0s - loss: 0.0688 - acc: 0.9789 - val_loss: 0.0178 - val_acc: 1.0000\n",
      "Epoch 9/40\n",
      "142/142 [==============================] - 0s - loss: 0.0623 - acc: 0.9859 - val_loss: 0.0255 - val_acc: 1.0000\n",
      "Epoch 10/40\n",
      "142/142 [==============================] - 0s - loss: 0.0623 - acc: 0.9859 - val_loss: 0.0328 - val_acc: 0.9722\n",
      "Epoch 11/40\n",
      "142/142 [==============================] - 0s - loss: 0.0622 - acc: 0.9859 - val_loss: 0.0378 - val_acc: 0.9722\n",
      "Epoch 12/40\n",
      "142/142 [==============================] - 0s - loss: 0.0621 - acc: 0.9859 - val_loss: 0.0404 - val_acc: 0.9722\n",
      "Epoch 13/40\n",
      "142/142 [==============================] - 0s - loss: 0.0619 - acc: 0.9859 - val_loss: 0.0418 - val_acc: 0.9722\n",
      "Epoch 14/40\n",
      "142/142 [==============================] - 0s - loss: 0.0617 - acc: 0.9859 - val_loss: 0.0416 - val_acc: 0.9722\n",
      "Epoch 15/40\n",
      "142/142 [==============================] - 0s - loss: 0.0614 - acc: 0.9859 - val_loss: 0.0408 - val_acc: 0.9722\n",
      "Epoch 16/40\n",
      "142/142 [==============================] - 0s - loss: 0.0609 - acc: 0.9859 - val_loss: 0.0398 - val_acc: 0.9722\n",
      "Epoch 17/40\n",
      "142/142 [==============================] - 0s - loss: 0.0607 - acc: 0.9859 - val_loss: 0.0389 - val_acc: 0.9722\n",
      "Epoch 18/40\n",
      "142/142 [==============================] - 0s - loss: 0.0608 - acc: 0.9859 - val_loss: 0.0371 - val_acc: 0.9722\n",
      "Epoch 19/40\n",
      "142/142 [==============================] - 0s - loss: 0.0601 - acc: 0.9859 - val_loss: 0.0365 - val_acc: 0.9722\n",
      "Epoch 20/40\n",
      "142/142 [==============================] - 0s - loss: 0.0599 - acc: 0.9859 - val_loss: 0.0358 - val_acc: 0.9722\n",
      "Epoch 21/40\n",
      "142/142 [==============================] - 0s - loss: 0.0601 - acc: 0.9859 - val_loss: 0.0350 - val_acc: 0.9722\n",
      "Epoch 22/40\n",
      "142/142 [==============================] - 0s - loss: 0.0596 - acc: 0.9859 - val_loss: 0.0349 - val_acc: 0.9722\n",
      "Epoch 23/40\n",
      "142/142 [==============================] - 0s - loss: 0.0596 - acc: 0.9859 - val_loss: 0.0349 - val_acc: 0.9722\n",
      "Epoch 24/40\n",
      "142/142 [==============================] - 0s - loss: 0.0595 - acc: 0.9859 - val_loss: 0.0348 - val_acc: 0.9722\n",
      "Epoch 25/40\n",
      "142/142 [==============================] - 0s - loss: 0.0594 - acc: 0.9859 - val_loss: 0.0346 - val_acc: 0.9722\n",
      "Epoch 26/40\n",
      "142/142 [==============================] - 0s - loss: 0.0594 - acc: 0.9859 - val_loss: 0.0345 - val_acc: 0.9722\n",
      "Epoch 27/40\n",
      "142/142 [==============================] - 0s - loss: 0.0593 - acc: 0.9859 - val_loss: 0.0339 - val_acc: 0.9722\n",
      "Epoch 28/40\n",
      "142/142 [==============================] - 0s - loss: 0.0591 - acc: 0.9859 - val_loss: 0.0337 - val_acc: 0.9722\n",
      "Epoch 29/40\n",
      "142/142 [==============================] - 0s - loss: 0.0592 - acc: 0.9859 - val_loss: 0.0333 - val_acc: 0.9722\n",
      "Epoch 30/40\n",
      "142/142 [==============================] - 0s - loss: 0.0590 - acc: 0.9859 - val_loss: 0.0331 - val_acc: 0.9722\n",
      "Epoch 31/40\n",
      "142/142 [==============================] - 0s - loss: 0.0588 - acc: 0.9859 - val_loss: 0.0326 - val_acc: 0.9722\n",
      "Epoch 32/40\n",
      "142/142 [==============================] - 0s - loss: 0.0590 - acc: 0.9859 - val_loss: 0.0319 - val_acc: 0.9722\n",
      "Epoch 33/40\n",
      "142/142 [==============================] - 0s - loss: 0.0589 - acc: 0.9859 - val_loss: 0.0319 - val_acc: 0.9722\n",
      "Epoch 34/40\n",
      "142/142 [==============================] - 0s - loss: 0.0589 - acc: 0.9859 - val_loss: 0.0312 - val_acc: 0.9722\n",
      "Epoch 35/40\n",
      "142/142 [==============================] - 0s - loss: 0.0588 - acc: 0.9859 - val_loss: 0.0310 - val_acc: 0.9722\n",
      "Epoch 36/40\n",
      "142/142 [==============================] - 0s - loss: 0.0587 - acc: 0.9859 - val_loss: 0.0309 - val_acc: 0.9722\n",
      "Epoch 37/40\n",
      "142/142 [==============================] - 0s - loss: 0.0587 - acc: 0.9859 - val_loss: 0.0314 - val_acc: 0.9722\n",
      "Epoch 38/40\n",
      "142/142 [==============================] - 0s - loss: 0.0585 - acc: 0.9859 - val_loss: 0.0317 - val_acc: 0.9722\n",
      "Epoch 39/40\n",
      "142/142 [==============================] - 0s - loss: 0.0589 - acc: 0.9859 - val_loss: 0.0323 - val_acc: 0.9722\n",
      "Epoch 40/40\n",
      "142/142 [==============================] - 0s - loss: 0.0586 - acc: 0.9859 - val_loss: 0.0324 - val_acc: 0.9722\n"
     ]
    },
    {
     "data": {
      "text/plain": [
       "<keras.callbacks.History at 0x1b6164d5438>"
      ]
     },
     "execution_count": 56,
     "metadata": {},
     "output_type": "execute_result"
    }
   ],
   "source": [
    "input = Input(shape=(13,))\n",
    "layer1 = Dense(8, activation=\"relu\")(input)\n",
    "layer2 = Dense(5, activation=\"relu\")(layer1)\n",
    "layer3 = Dense(2, activation=\"relu\")(layer2)\n",
    "output = Dense(3, activation=\"softmax\")(layer3)\n",
    "model = Model(input, output)\n",
    "model.compile(Adam(lr=0.1), 'categorical_crossentropy', metrics=['accuracy'])\n",
    "model.fit(\n",
    "    X_train, \n",
    "    y_train, \n",
    "    epochs=40, \n",
    "    validation_data=(X_test, y_test), \n",
    "    callbacks=[checkpoint, tb])"
   ]
  },
  {
   "cell_type": "code",
   "execution_count": 26,
   "metadata": {},
   "outputs": [
    {
     "data": {
      "text/plain": [
       "array([1, 2, 0, 0, 1, 0, 0, 1, 1, 2, 0, 2, 2, 1, 0, 0, 1, 2, 0, 1, 1, 1, 1,\n",
       "       1, 0, 1, 1, 1, 1, 0, 1, 1, 0, 0, 1, 2], dtype=int64)"
      ]
     },
     "execution_count": 26,
     "metadata": {},
     "output_type": "execute_result"
    }
   ],
   "source": [
    "y_pred = model.predict(X_test)\n",
    "y_test_cat = np.argmax(y_test, axis=1)\n",
    "y_test_cat"
   ]
  },
  {
   "cell_type": "code",
   "execution_count": 29,
   "metadata": {},
   "outputs": [],
   "source": [
    "features = K.function([input], [layer3])([X_test])[0]"
   ]
  },
  {
   "cell_type": "code",
   "execution_count": 30,
   "metadata": {},
   "outputs": [
    {
     "data": {
      "text/plain": [
       "<matplotlib.collections.PathCollection at 0x1b609dad978>"
      ]
     },
     "execution_count": 30,
     "metadata": {},
     "output_type": "execute_result"
    },
    {
     "data": {
      "image/png": "[encoded data removed]",
      "text/plain": [
       "<matplotlib.figure.Figure at 0x1b607d9df28>"
      ]
     },
     "metadata": {},
     "output_type": "display_data"
    }
   ],
   "source": [
    "plt.scatter(features[:, 0], features[:, 1], c=y_test_cat)"
   ]
  },
  {
   "cell_type": "markdown",
   "metadata": {},
   "source": [
    "======================== Exercise 4 - callbacks ======================"
   ]
  },
  {
   "cell_type": "code",
   "execution_count": 50,
   "metadata": {
    "collapsed": true
   },
   "outputs": [],
   "source": []
  },
  {
   "cell_type": "code",
   "execution_count": null,
   "metadata": {
    "collapsed": true
   },
   "outputs": [],
   "source": []
  }
 ],
 "metadata": {
  "kernelspec": {
   "display_name": "Python 3",
   "language": "python",
   "name": "python3"
  },
  "language_info": {
   "codemirror_mode": {
    "name": "ipython",
    "version": 3
   },
   "file_extension": ".py",
   "mimetype": "text/x-python",
   "name": "python",
   "nbconvert_exporter": "python",
   "pygments_lexer": "ipython3",
   "version": "3.5.3"
  }
 },
 "nbformat": 4,
 "nbformat_minor": 2
}
