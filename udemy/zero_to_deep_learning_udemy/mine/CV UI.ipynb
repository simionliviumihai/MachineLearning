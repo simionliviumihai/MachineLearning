{
 "cells": [
  {
   "cell_type": "code",
   "execution_count": 1,
   "metadata": {},
   "outputs": [
    {
     "name": "stderr",
     "output_type": "stream",
     "text": [
      "Using TensorFlow backend.\n"
     ]
    }
   ],
   "source": [
    "import cv2\n",
    "import time\n",
    "import PIL\n",
    "import numpy as np\n",
    "from keras.models import model_from_json"
   ]
  },
  {
   "cell_type": "code",
   "execution_count": 2,
   "metadata": {
    "collapsed": true
   },
   "outputs": [],
   "source": [
    "def normalize_images(ims):\n",
    "    return ims / 255.0\n",
    "\n",
    "def load_model(model_file='model.json', weights_file='model.h5'):\n",
    "    json_file = open(model_file, 'r')\n",
    "    loaded_model_json = json_file.read()\n",
    "    json_file.close()\n",
    "    loaded_model = model_from_json(loaded_model_json)\n",
    "    \n",
    "    # load weights into new model\n",
    "    loaded_model.load_weights(weights_file)\n",
    "    print(\"Loaded model from disk\")\n",
    "    return loaded_model\n",
    "\n",
    "def get_gender(model, arr, shape=(64, 64)):\n",
    "    im = PIL.Image.fromarray(arr)\n",
    "    good_size_arr = np.array(im.resize(shape))\n",
    "    if len(arr.shape) == 2:\n",
    "        good_size_arr = np.array([good_size_arr, good_size_arr, good_size_arr])\n",
    "    cls = model.predict(np.array([normalize_images(good_size_arr)]))\n",
    "    if cls[0][0] < 0.5:\n",
    "        return \"Female\"\n",
    "    else:\n",
    "        return \"Male\"\n",
    "\n",
    "class CameraDisplay:    \n",
    "    def __init__(self, onFrame):\n",
    "        self.windowName = \"myWindow\"\n",
    "        self.showWindow = True\n",
    "        self.onFrame = onFrame\n",
    "        self.createWindowAndLoop()\n",
    "    \n",
    "    def createWindowAndLoop(self):\n",
    "        def onSliderChanged(state):\n",
    "            self.showWindow = False\n",
    "    \n",
    "        def onMouse(event, x, y, flags, param):\n",
    "            if event == cv2.EVENT_LBUTTONDOWN:\n",
    "                self.showWindow = False\n",
    "        \n",
    "        try:\n",
    "            cap = cv2.VideoCapture(0)\n",
    "            cv2.namedWindow(self.windowName, cv2.WINDOW_FULLSCREEN)\n",
    "            cv2.createTrackbar(\"Slide to stop\", self.windowName, 0, 1, onSliderChanged)\n",
    "            cv2.setMouseCallback(self.windowName, onMouse)\n",
    "\n",
    "            while(self.showWindow):\n",
    "                # Capture frame-by-frame\n",
    "                ret, frame = cap.read()\n",
    "                if (frame == None):\n",
    "                    print(\"Error on capturing frame\")\n",
    "                    break\n",
    "\n",
    "                # Display the resulting frame\n",
    "                self.onFrame(frame)\n",
    "                cv2.imshow(self.windowName, frame)\n",
    "                if cv2.waitKey(1) & 0xFF == ord('q'):\n",
    "                    break\n",
    "\n",
    "                time.sleep(0.1)\n",
    "        finally:\n",
    "            # When everything done, release the capture\n",
    "            cap.release()\n",
    "            cv2.destroyAllWindows()"
   ]
  },
  {
   "cell_type": "code",
   "execution_count": 3,
   "metadata": {},
   "outputs": [
    {
     "name": "stdout",
     "output_type": "stream",
     "text": [
      "Loaded model from disk\n"
     ]
    },
    {
     "name": "stderr",
     "output_type": "stream",
     "text": [
      "C:\\Users\\liviu\\Anaconda3\\envs\\ztdlg\\lib\\site-packages\\ipykernel_launcher.py:50: FutureWarning: comparison to `None` will result in an elementwise object comparison in the future.\n"
     ]
    }
   ],
   "source": [
    "size=(128, 128)\n",
    "model = load_model()\n",
    "\n",
    "def onFrame(frame):\n",
    "    gender = get_gender(model, frame, size)\n",
    "    cv2.putText(frame, gender, (100,100), cv2.FONT_HERSHEY_SIMPLEX, 1, (255, 255, 255))\n",
    "\n",
    "cam = CameraDisplay(onFrame)"
   ]
  },
  {
   "cell_type": "code",
   "execution_count": null,
   "metadata": {
    "collapsed": true
   },
   "outputs": [],
   "source": []
  },
  {
   "cell_type": "code",
   "execution_count": null,
   "metadata": {
    "collapsed": true
   },
   "outputs": [],
   "source": []
  },
  {
   "cell_type": "code",
   "execution_count": null,
   "metadata": {
    "collapsed": true
   },
   "outputs": [],
   "source": []
  },
  {
   "cell_type": "code",
   "execution_count": null,
   "metadata": {
    "collapsed": true
   },
   "outputs": [],
   "source": []
  }
 ],
 "metadata": {
  "kernelspec": {
   "display_name": "Python 3",
   "language": "python",
   "name": "python3"
  },
  "language_info": {
   "codemirror_mode": {
    "name": "ipython",
    "version": 3
   },
   "file_extension": ".py",
   "mimetype": "text/x-python",
   "name": "python",
   "nbconvert_exporter": "python",
   "pygments_lexer": "ipython3",
   "version": "3.5.3"
  }
 },
 "nbformat": 4,
 "nbformat_minor": 2
}
